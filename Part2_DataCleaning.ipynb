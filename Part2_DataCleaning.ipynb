{
 "cells": [
  {
   "cell_type": "code",
   "execution_count": 1,
   "metadata": {},
   "outputs": [],
   "source": [
    "import json\n",
    "import timeit as tt"
   ]
  },
  {
   "cell_type": "code",
   "execution_count": 2,
   "metadata": {},
   "outputs": [
    {
     "name": "stdout",
     "output_type": "stream",
     "text": [
      "It took 4.8988681 seconds\n"
     ]
    }
   ],
   "source": [
    "#cleans agency names\n",
    "start = tt.default_timer()  \n",
    "with open('M1_Data.json') as f:\n",
    "    M1Data = json.load(f)\n",
    "    agencyLst = []\n",
    "    #finds all possible names\n",
    "    for key in M1Data:\n",
    "        if not(M1Data[key]['status'] in agencyLst):\n",
    "            agencyLst.append(M1Data[key]['status'])\n",
    "        else:\n",
    "            continue\n",
    "\n",
    "    agencyDict = {}\n",
    "    for ii in range(len(agencyLst)):\n",
    "        associationLst = [0]*len(agencyLst)\n",
    "        associationLst[ii] = 1\n",
    "        agencyDict[agencyLst[ii]] = associationLst\n",
    "        \n",
    "    #convert names to the form [0, 0, ... , 0, 1, 0, 0, ... ,0]\n",
    "    for key in M1Data:\n",
    "        M1Data[key]['status'] = agencyDict[M1Data[key]['status']]\n",
    "    with open('M1_DataAgencyCleaned.json', 'w') as g:\n",
    "        json.dump(M1Data, g)\n",
    "stop = tt.default_timer() \n",
    "print('It took', stop-start, 'seconds')"
   ]
  },
  {
   "cell_type": "code",
   "execution_count": 3,
   "metadata": {},
   "outputs": [
    {
     "name": "stdout",
     "output_type": "stream",
     "text": [
      "It took 0.6547879999999999 seconds\n"
     ]
    }
   ],
   "source": [
    "#finds all possible result (sometimes inconsistent)\n",
    "start = tt.default_timer()\n",
    "with open('M1_DataAgencyCleaned.json') as f:\n",
    "    M1Data = json.load(f)\n",
    "    resultLst = []\n",
    "    for key in M1Data:\n",
    "        for elem in M1Data[key]['result']:\n",
    "            if not(elem in resultLst):\n",
    "                resultLst.append(elem)\n",
    "        else:\n",
    "            continue\n",
    "    \n",
    "    with open('LstOfPossibleResult.json', 'w') as g:\n",
    "        result = {}\n",
    "        result['lst'] = resultLst\n",
    "        json.dump(result, g)\n",
    "stop = tt.default_timer() \n",
    "print('It took', stop-start, 'seconds')"
   ]
  },
  {
   "cell_type": "code",
   "execution_count": 6,
   "metadata": {},
   "outputs": [
    {
     "name": "stdout",
     "output_type": "stream",
     "text": [
      "It took 4.854724199999964 seconds\n"
     ]
    }
   ],
   "source": [
    "#cleans result\n",
    "#convert results to the form [0, 0, ... , 0, 1, 0, 0, ... ,0]\n",
    "start = tt.default_timer()\n",
    "with open('M1_DataAgencyCleaned.json') as f:\n",
    "    with open('LstOfPossibleResult.json') as g:\n",
    "        M1Data = json.load(f)\n",
    "        resultData = json.load(g)\n",
    "        resultLst = resultData['lst']\n",
    "        for key in M1Data:\n",
    "            newResultLst = []\n",
    "            for elem in M1Data[key]['result']:\n",
    "                if (elem == resultLst[0] or elem == resultLst[4]):\n",
    "                    newResultLst.append([1, 0, 0, 0, 0, 0, 0])\n",
    "                elif (elem == resultLst[1] or elem == resultLst[7] or elem == resultLst[9]):\n",
    "                    newResultLst.append([0, 1, 0, 0, 0, 0, 0])\n",
    "                elif(elem == resultLst[2] or elem == resultLst[10]):\n",
    "                    newResultLst.append([0, 0, 1, 0, 0, 0, 0])\n",
    "                elif(elem == resultLst[3]):\n",
    "                    newResultLst.append([0, 0, 0, 1, 0, 0, 0])\n",
    "                elif(elem == resultLst[5] or elem == resultLst[8] or elem == resultLst[12]):\n",
    "                    newResultLst.append([0, 0, 0, 0, 1, 0, 0])\n",
    "                elif(elem == resultLst[6]):\n",
    "                    newResultLst.append([0, 0, 0, 0, 0, 1, 0])\n",
    "                elif(elem == resultLst[11]):\n",
    "                    newResultLst.append([0, 0, 0, 0, 0, 0, 1])\n",
    "            M1Data[key]['result'] = newResultLst\n",
    "        with open('M1_DataFullCleaned.json', 'w') as h:\n",
    "            json.dump(M1Data, h)\n",
    "stop = tt.default_timer() \n",
    "print('It took', stop-start, 'seconds')"
   ]
  },
  {
   "cell_type": "code",
   "execution_count": null,
   "metadata": {},
   "outputs": [],
   "source": []
  }
 ],
 "metadata": {
  "kernelspec": {
   "display_name": "Python 3",
   "language": "python",
   "name": "python3"
  },
  "language_info": {
   "codemirror_mode": {
    "name": "ipython",
    "version": 3
   },
   "file_extension": ".py",
   "mimetype": "text/x-python",
   "name": "python",
   "nbconvert_exporter": "python",
   "pygments_lexer": "ipython3",
   "version": "3.8.6"
  }
 },
 "nbformat": 4,
 "nbformat_minor": 4
}
