{
 "cells": [
  {
   "cell_type": "code",
   "execution_count": 1,
   "metadata": {},
   "outputs": [],
   "source": [
    "import json\n",
    "import numpy as np\n",
    "import timeit as tt"
   ]
  },
  {
   "cell_type": "code",
   "execution_count": 2,
   "metadata": {},
   "outputs": [
    {
     "name": "stdout",
     "output_type": "stream",
     "text": [
      "18667\n",
      "18667\n",
      "It took 0.9704176999999999 seconds\n"
     ]
    }
   ],
   "source": [
    "start = tt.default_timer()  \n",
    "with open('M1_DataFullCleaned.json') as f:\n",
    "    M1Data = json.load(f)\n",
    "    names = []\n",
    "    x = []\n",
    "    y = []\n",
    "    for key in M1Data:\n",
    "        if M1Data[key]['result'] != []:\n",
    "            historyData = []\n",
    "            historyData += [M1Data[key]['formYear']]\n",
    "            historyData += [M1Data[key]['numberOfMembers']]\n",
    "            historyData += M1Data[key]['status']\n",
    "            for record in M1Data[key]['result']:\n",
    "                names.append(M1Data[key]['name'])\n",
    "                x.append(np.array(historyData))\n",
    "                y.append(np.array(record))\n",
    "                historyData.append(record)\n",
    "    trainingDict = {}\n",
    "    trainingDict['names'] = names\n",
    "    trainingDict['x'] = x\n",
    "    trainingDict['y'] = y\n",
    "    print(len(x))\n",
    "    print(len(y))\n",
    "stop = tt.default_timer() \n",
    "print('It took', stop-start, 'seconds')"
   ]
  },
  {
   "cell_type": "code",
   "execution_count": 3,
   "metadata": {},
   "outputs": [],
   "source": [
    "x = np.array(x)\n",
    "y = np.array(y)\n",
    "names = np.array(names)\n",
    "np.save('x_test.npy', x)\n",
    "np.save('y_test.npy', y)\n",
    "np.save('names.npy', names)"
   ]
  },
  {
   "cell_type": "code",
   "execution_count": null,
   "metadata": {},
   "outputs": [],
   "source": []
  }
 ],
 "metadata": {
  "kernelspec": {
   "display_name": "Python 3",
   "language": "python",
   "name": "python3"
  },
  "language_info": {
   "codemirror_mode": {
    "name": "ipython",
    "version": 3
   },
   "file_extension": ".py",
   "mimetype": "text/x-python",
   "name": "python",
   "nbconvert_exporter": "python",
   "pygments_lexer": "ipython3",
   "version": "3.8.6"
  }
 },
 "nbformat": 4,
 "nbformat_minor": 4
}
